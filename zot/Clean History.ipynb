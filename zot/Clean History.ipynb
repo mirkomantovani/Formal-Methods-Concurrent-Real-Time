{
 "cells": [
  {
   "cell_type": "code",
   "execution_count": 13,
   "metadata": {},
   "outputs": [],
   "source": [
    "import sys"
   ]
  },
  {
   "cell_type": "code",
   "execution_count": 14,
   "metadata": {},
   "outputs": [],
   "source": [
    "hist = open('output.hist.txt', 'r')\n",
    "lines = hist.readlines()"
   ]
  },
  {
   "cell_type": "code",
   "execution_count": 15,
   "metadata": {},
   "outputs": [
    {
     "name": "stdout",
     "output_type": "stream",
     "text": [
      "['------ time 0 ------\\n', 'CART(1)\\n', '------ time 1 ------\\n', 'CART(1)\\n', '------ time 2 ------\\n', '  CART-MOVED\\n', 'CART(6)\\n', '------ time 3 ------\\n', '  CART-MOVED\\n', 'CART(3)\\n', '------ time 4 ------\\n', 'CART(3)\\n', '------ time 5 ------\\n', '  **LOOP**\\n', 'CART(3)\\n', '------ end ------\\n']\n"
     ]
    }
   ],
   "source": [
    "filter_adj = [line for line in lines if 'ADJACENT' not in line]\n",
    "print(filter_adj)"
   ]
  },
  {
   "cell_type": "code",
   "execution_count": 16,
   "metadata": {},
   "outputs": [
    {
     "name": "stdout",
     "output_type": "stream",
     "text": [
      "------ time 0 ------\n",
      "CART(1)\n",
      "------ time 1 ------\n",
      "CART(1)\n",
      "------ time 2 ------\n",
      "  CART-MOVED\n",
      "CART(6)\n",
      "------ time 3 ------\n",
      "  CART-MOVED\n",
      "CART(3)\n",
      "------ time 4 ------\n",
      "CART(3)\n",
      "------ time 5 ------\n",
      "  **LOOP**\n",
      "CART(3)\n",
      "------ end ------\n"
     ]
    }
   ],
   "source": [
    "for line in filter_adj:\n",
    "    sys.stdout.write(line)"
   ]
  }
 ],
 "metadata": {
  "kernelspec": {
   "display_name": "Python 3",
   "language": "python",
   "name": "python3"
  },
  "language_info": {
   "codemirror_mode": {
    "name": "ipython",
    "version": 3
   },
   "file_extension": ".py",
   "mimetype": "text/x-python",
   "name": "python",
   "nbconvert_exporter": "python",
   "pygments_lexer": "ipython3",
   "version": "3.6.5"
  }
 },
 "nbformat": 4,
 "nbformat_minor": 2
}
